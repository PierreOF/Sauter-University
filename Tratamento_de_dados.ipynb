{
  "nbformat": 4,
  "nbformat_minor": 0,
  "metadata": {
    "colab": {
      "provenance": [],
      "authorship_tag": "ABX9TyOfa6OF8Xh5sF0VFlImfG7x"
    },
    "kernelspec": {
      "name": "python3",
      "display_name": "Python 3"
    },
    "language_info": {
      "name": "python"
    }
  },
  "cells": [
    {
      "cell_type": "markdown",
      "source": [
        "##**WEEK 1 - SAUTER CHALLENGE**\n",
        "\n",
        "##Tratamento de Dados de Avaliações de Aplicativo\n",
        "\n",
        "Objetivo: Lidar com dados provenientes de avaliações de aplicativos da App Store e/ou Google Play Store.\n",
        "\n",
        "##Sobre o conjunto de dados.\n",
        "\n",
        "O conjunto de dados de avaliações de aplicativos do Instagram é uma coleção abrangente de avaliações de usuários do aplicativo móvel Instagram na Google Play Store, capturando insights e sentimentos valiosos. O conjunto de dados permite a compreensão da satisfação do usuário, avaliação do desempenho do aplicativo e identificação de padrões emergentes.\n",
        "\n",
        "##A forma como os dados foram coletados\n",
        "\n",
        "Extraindo avaliações do aplicativo **Instagram** na Google Play Store.\n",
        "\n",
        "##Colunas\n",
        "\n",
        "- review_description : comentário feito pelos avaliadores.\n",
        "- rating : avaliação geral sobre o aplicativo de 1 até 5 estrelas.\n",
        "- review_date : data que a avaliação foi realizada.\n",
        "\n"
      ],
      "metadata": {
        "id": "FYJGRqjhwk9U"
      }
    },
    {
      "cell_type": "markdown",
      "source": [
        "### Fazendo a instalação e importação das bibliotecas que serão utilizadas no projeto"
      ],
      "metadata": {
        "id": "TJUzKgq3wTBy"
      }
    },
    {
      "cell_type": "code",
      "execution_count": null,
      "metadata": {
        "colab": {
          "base_uri": "https://localhost:8080/"
        },
        "id": "Q0r1BA27bwY6",
        "outputId": "3b928b5a-9d1b-444a-e4e4-3efe14f45473"
      },
      "outputs": [
        {
          "output_type": "stream",
          "name": "stdout",
          "text": [
            "Requirement already satisfied: sqlalchemy==1.4.46 in /usr/local/lib/python3.10/dist-packages (1.4.46)\n",
            "Requirement already satisfied: greenlet!=0.4.17 in /usr/local/lib/python3.10/dist-packages (from sqlalchemy==1.4.46) (3.0.1)\n",
            "Requirement already satisfied: pandasql in /usr/local/lib/python3.10/dist-packages (0.7.3)\n",
            "Requirement already satisfied: numpy in /usr/local/lib/python3.10/dist-packages (from pandasql) (1.23.5)\n",
            "Requirement already satisfied: pandas in /usr/local/lib/python3.10/dist-packages (from pandasql) (1.5.3)\n",
            "Requirement already satisfied: sqlalchemy in /usr/local/lib/python3.10/dist-packages (from pandasql) (1.4.46)\n",
            "Requirement already satisfied: python-dateutil>=2.8.1 in /usr/local/lib/python3.10/dist-packages (from pandas->pandasql) (2.8.2)\n",
            "Requirement already satisfied: pytz>=2020.1 in /usr/local/lib/python3.10/dist-packages (from pandas->pandasql) (2023.3.post1)\n",
            "Requirement already satisfied: greenlet!=0.4.17 in /usr/local/lib/python3.10/dist-packages (from sqlalchemy->pandasql) (3.0.1)\n",
            "Requirement already satisfied: six>=1.5 in /usr/local/lib/python3.10/dist-packages (from python-dateutil>=2.8.1->pandas->pandasql) (1.16.0)\n"
          ]
        }
      ],
      "source": [
        "!pip install sqlalchemy==1.4.46\n",
        "!pip install pandasql"
      ]
    },
    {
      "cell_type": "code",
      "source": [
        "import pandas as pd\n",
        "from pandasql import sqldf"
      ],
      "metadata": {
        "id": "nnTc5L5rcUWo"
      },
      "execution_count": null,
      "outputs": []
    },
    {
      "cell_type": "markdown",
      "source": [
        "### Lendo o arquivo com as avaliações do dataset do instagram"
      ],
      "metadata": {
        "id": "XZi7opRzxWGG"
      }
    },
    {
      "cell_type": "code",
      "source": [
        "df_reviews_instagram = pd.read_csv('/content/instagram.csv')"
      ],
      "metadata": {
        "id": "wulSrRi9ceST"
      },
      "execution_count": null,
      "outputs": []
    },
    {
      "cell_type": "markdown",
      "source": [
        "### Criando dicionario para traduzir nome das colunas para pt/br"
      ],
      "metadata": {
        "id": "FLHWF2Crxaei"
      }
    },
    {
      "cell_type": "code",
      "source": [
        "traducoes = {\n",
        "    \"review_description\":\"comentario\",\n",
        "    \"rating\":\"avaliacao\",\n",
        "    \"review_date\":\"data_da_avaliacao\"\n",
        "}"
      ],
      "metadata": {
        "id": "P1gMXNGydfu9"
      },
      "execution_count": null,
      "outputs": []
    },
    {
      "cell_type": "markdown",
      "source": [
        "### Aplicando as substituições"
      ],
      "metadata": {
        "id": "RMVtvV6LxhAL"
      }
    },
    {
      "cell_type": "code",
      "source": [
        "df_reviews_instagram.rename(columns=traducoes,inplace=True)"
      ],
      "metadata": {
        "id": "eeQkhHw4eec1"
      },
      "execution_count": null,
      "outputs": []
    },
    {
      "cell_type": "markdown",
      "source": [
        "### criando uma nova coluna [etl_timestamp] apartir da coluna [data da avaliacao]"
      ],
      "metadata": {
        "id": "QdkxGuJMxyJu"
      }
    },
    {
      "cell_type": "code",
      "source": [
        "df_reviews_instagram['etl_timestamp'] = df_reviews_instagram['data_da_avaliacao']"
      ],
      "metadata": {
        "id": "IA-3GCwakYyg"
      },
      "execution_count": null,
      "outputs": []
    },
    {
      "cell_type": "markdown",
      "source": [
        "### Transformando a coluna [etl_timestamp] de object para datetime64[ns]"
      ],
      "metadata": {
        "id": "kVNWZPHJx3VK"
      }
    },
    {
      "cell_type": "code",
      "source": [
        "df_reviews_instagram['etl_timestamp'] = pd.to_datetime(df_reviews_instagram['etl_timestamp'])"
      ],
      "metadata": {
        "id": "V2i2h2xwlRQh"
      },
      "execution_count": null,
      "outputs": []
    },
    {
      "cell_type": "markdown",
      "source": [
        "### valindo a alteração de object para datetime64[ns]"
      ],
      "metadata": {
        "id": "pflx_4WTyAYZ"
      }
    },
    {
      "cell_type": "code",
      "source": [
        "df_reviews_instagram.dtypes"
      ],
      "metadata": {
        "id": "k-zJYOR1mS_l",
        "colab": {
          "base_uri": "https://localhost:8080/"
        },
        "outputId": "40f8a39a-699c-49da-a442-f0127b12280a"
      },
      "execution_count": null,
      "outputs": [
        {
          "output_type": "execute_result",
          "data": {
            "text/plain": [
              "comentario                   object\n",
              "avaliacao                     int64\n",
              "data_da_avaliacao            object\n",
              "etl_timestamp        datetime64[ns]\n",
              "dtype: object"
            ]
          },
          "metadata": {},
          "execution_count": 155
        }
      ]
    },
    {
      "cell_type": "markdown",
      "source": [
        "### verificando se existem valores que sao nulos"
      ],
      "metadata": {
        "id": "9kH2r0XyyE-S"
      }
    },
    {
      "cell_type": "code",
      "source": [
        "df_reviews_instagram.isnull().sum()"
      ],
      "metadata": {
        "id": "u0Lbdn8ToSnL",
        "colab": {
          "base_uri": "https://localhost:8080/"
        },
        "outputId": "089cebb0-c4c5-4b56-e328-0d1138134e81"
      },
      "execution_count": null,
      "outputs": [
        {
          "output_type": "execute_result",
          "data": {
            "text/plain": [
              "comentario           0\n",
              "avaliacao            0\n",
              "data_da_avaliacao    0\n",
              "etl_timestamp        0\n",
              "dtype: int64"
            ]
          },
          "metadata": {},
          "execution_count": 156
        }
      ]
    },
    {
      "cell_type": "markdown",
      "source": [
        "### Transformando o dataframe para json e salvando o arquivo .json"
      ],
      "metadata": {
        "id": "9iCwmbgmyLbq"
      }
    },
    {
      "cell_type": "code",
      "source": [
        "df_reviews_instagram.to_json('desafioSauter.json', orient='records')"
      ],
      "metadata": {
        "id": "LFs3PD20pdT_"
      },
      "execution_count": null,
      "outputs": []
    },
    {
      "cell_type": "markdown",
      "source": [
        "### Agrupando dados para plotar gráfico com a relação **quantidade de avaliações** x **avaliação**"
      ],
      "metadata": {
        "id": "DndTxkgyyXAp"
      }
    },
    {
      "cell_type": "code",
      "source": [
        "dados_agrupados = df_reviews_instagram.groupby('avaliacao').size()"
      ],
      "metadata": {
        "id": "SGQi1fI1tM08"
      },
      "execution_count": null,
      "outputs": []
    },
    {
      "cell_type": "code",
      "source": [
        "dados_agrupados.plot.bar(color='green',ylabel='Quantidade de avaliacoes')"
      ],
      "metadata": {
        "id": "NC7gqcjutg3M",
        "colab": {
          "base_uri": "https://localhost:8080/",
          "height": 461
        },
        "outputId": "91642cb6-116a-4b9a-a8f5-4810be273463"
      },
      "execution_count": null,
      "outputs": [
        {
          "output_type": "execute_result",
          "data": {
            "text/plain": [
              "<Axes: xlabel='avaliacao', ylabel='Quantidade de avaliacoes'>"
            ]
          },
          "metadata": {},
          "execution_count": 160
        },
        {
          "output_type": "display_data",
          "data": {
            "text/plain": [
              "<Figure size 640x480 with 1 Axes>"
            ],
            "image/png": "[encoded data removed]"
          },
          "metadata": {}
        }
      ]
    }
  ]
}