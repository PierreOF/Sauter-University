{
 "cells": [
  {
   "cell_type": "markdown",
   "metadata": {},
   "source": [
    "Querys que foram utilizadas no BIG QUERY após adicionar a base de dados exportada da etapa de EDA com python"
   ]
  },
  {
   "cell_type": "markdown",
   "metadata": {},
   "source": [
    "Nesta execução vamos criar um modelo de regressão linear através da\n",
    "função CREATE OR REPLACE MODEL que será treinado para prever os valores\n",
    "de “price” com dados extraídos da “table_sauter” . "
   ]
  },
  {
   "cell_type": "code",
   "execution_count": null,
   "metadata": {},
   "outputs": [],
   "source": [
    "REATE OR REPLACE MODEL dataset_model.sample_model\n",
    "OPTIONS\n",
    "(model_type='linear_reg',\n",
    "input_label_cols=['price']) AS\n",
    "WITH training_data AS (\n",
    "SELECT\n",
    "idh,\n",
    "host_since,\n",
    "host_is_superhost,\n",
    "calculated_host_listings_count_private_rooms,\n",
    "bathrooms_text,\n",
    "property_type,\n",
    "room_type,\n",
    "accommodates,\n",
    "bedrooms,\n",
    "beds,\n",
    "amenities,\n",
    "Desafio Técnico - Construindo um Modelo de Regressão Linear para Previsão de Preços de Airbnbs no Rio de Janeiro . 9\n",
    "review_scores_rating,\n",
    "review_scores_accuracy,\n",
    "review_scores_cleanliness,\n",
    "review_scores_checkin,\n",
    "review_scores_communication,\n",
    "review_scores_location,\n",
    "review_scores_value,\n",
    "number_of_reviews_l30d,\n",
    "number_of_reviews_ltm,\n",
    "number_of_reviews,\n",
    "reviews_per_month,\n",
    "price\n",
    "FROM\n",
    "dataset_sauter.table_sauter\n",
    ")\n",
    "SELECT\n",
    "idh,\n",
    "host_since,\n",
    "calculated_host_listings_count_private_rooms,\n",
    "host_is_superhost,\n",
    "bathrooms_text,\n",
    "property_type,\n",
    "room_type,\n",
    "accommodates,\n",
    "amenities,\n",
    "review_scores_rating,\n",
    "review_scores_accuracy,\n",
    "review_scores_cleanliness,\n",
    "review_scores_checkin,\n",
    "review_scores_communication,\n",
    "review_scores_location,\n",
    "review_scores_value,\n",
    "number_of_reviews,\n",
    "number_of_reviews_ltm,\n",
    "number_of_reviews_l30d,\n",
    "reviews_per_month,\n",
    "price,\n",
    "bedrooms,\n",
    "beds\n",
    "FROM\n",
    "training_data;\n"
   ]
  },
  {
   "cell_type": "markdown",
   "metadata": {},
   "source": [
    "- Utilizei a função ML.PREDICT para fazer previsões usando a tabela gerada pelo\n",
    "modelo “sample_model” criado anteriormente"
   ]
  },
  {
   "cell_type": "code",
   "execution_count": null,
   "metadata": {},
   "outputs": [],
   "source": [
    "SELECT\n",
    "*\n",
    "FROM\n",
    "ML.PREDICT(MODEL dataset_model.sample_model,\n",
    "(\n",
    "SELECT\n",
    "*\n",
    "FROM\n",
    "dataset_sauter.table_sauter))"
   ]
  },
  {
   "cell_type": "markdown",
   "metadata": {},
   "source": [
    " - Utilizei a função ML.EVALUATE para avaliar a tabela gerada pelo modelo que\n",
    "criei e assim visualizar seus resultados;"
   ]
  },
  {
   "cell_type": "code",
   "execution_count": null,
   "metadata": {},
   "outputs": [],
   "source": [
    "SELECT\n",
    "*\n",
    "FROM\n",
    "ML.EVALUATE(MODEL dataset_model.sample_model,\n",
    "(\n",
    "SELECT\n",
    "*\n",
    "FROM\n",
    "dataset_sauter.table_sauter))"
   ]
  }
 ],
 "metadata": {
  "language_info": {
   "name": "python"
  }
 },
 "nbformat": 4,
 "nbformat_minor": 2
}
